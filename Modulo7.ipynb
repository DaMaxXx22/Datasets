{
 "cells": [
  {
   "cell_type": "code",
   "execution_count": 4,
   "id": "59f62c94-8769-4897-8ea2-e87ce447d0a6",
   "metadata": {},
   "outputs": [],
   "source": [
    "import pandas as pd\n",
    "import numpy as np\n",
    "from IPython.display import display\n",
    "import os"
   ]
  },
  {
   "cell_type": "code",
   "execution_count": 5,
   "id": "d83bd3c7-ab20-4e1a-9a89-6f8fe5800e9b",
   "metadata": {},
   "outputs": [],
   "source": [
    "from sklearn.model_selection import train_test_split\n",
    "from sklearn.ensemble import RandomForestClassifier\n",
    "from sklearn.neighbors import KNeighborsClassifier\n",
    "from sklearn.svm import SVC\n",
    "from sklearn.metrics import accuracy_score\n",
    "from sklearn.model_selection import GridSearchCV\n"
   ]
  },
  {
   "cell_type": "markdown",
   "id": "1f028764-f954-490a-8c18-006cba1fd07f",
   "metadata": {},
   "source": [
    "# Paso 1: LECTURA DE DATAFRAME"
   ]
  },
  {
   "cell_type": "code",
   "execution_count": 6,
   "id": "3e5057e8-f748-42a3-b622-568cb2abd48c",
   "metadata": {},
   "outputs": [],
   "source": [
    "df=pd.read_csv(os.path.join('..','DataFrames','users_behavior.csv'))"
   ]
  },
  {
   "cell_type": "code",
   "execution_count": 8,
   "id": "4671f37b-5979-4a1a-89ea-481686e92448",
   "metadata": {},
   "outputs": [
    {
     "data": {
      "text/html": [
       "<div>\n",
       "<style scoped>\n",
       "    .dataframe tbody tr th:only-of-type {\n",
       "        vertical-align: middle;\n",
       "    }\n",
       "\n",
       "    .dataframe tbody tr th {\n",
       "        vertical-align: top;\n",
       "    }\n",
       "\n",
       "    .dataframe thead th {\n",
       "        text-align: right;\n",
       "    }\n",
       "</style>\n",
       "<table border=\"1\" class=\"dataframe\">\n",
       "  <thead>\n",
       "    <tr style=\"text-align: right;\">\n",
       "      <th></th>\n",
       "      <th>calls</th>\n",
       "      <th>minutes</th>\n",
       "      <th>messages</th>\n",
       "      <th>mb_used</th>\n",
       "      <th>is_ultra</th>\n",
       "    </tr>\n",
       "  </thead>\n",
       "  <tbody>\n",
       "    <tr>\n",
       "      <th>0</th>\n",
       "      <td>40.0</td>\n",
       "      <td>311.90</td>\n",
       "      <td>83.0</td>\n",
       "      <td>19915.42</td>\n",
       "      <td>0</td>\n",
       "    </tr>\n",
       "    <tr>\n",
       "      <th>1</th>\n",
       "      <td>85.0</td>\n",
       "      <td>516.75</td>\n",
       "      <td>56.0</td>\n",
       "      <td>22696.96</td>\n",
       "      <td>0</td>\n",
       "    </tr>\n",
       "    <tr>\n",
       "      <th>2</th>\n",
       "      <td>77.0</td>\n",
       "      <td>467.66</td>\n",
       "      <td>86.0</td>\n",
       "      <td>21060.45</td>\n",
       "      <td>0</td>\n",
       "    </tr>\n",
       "    <tr>\n",
       "      <th>3</th>\n",
       "      <td>106.0</td>\n",
       "      <td>745.53</td>\n",
       "      <td>81.0</td>\n",
       "      <td>8437.39</td>\n",
       "      <td>1</td>\n",
       "    </tr>\n",
       "    <tr>\n",
       "      <th>4</th>\n",
       "      <td>66.0</td>\n",
       "      <td>418.74</td>\n",
       "      <td>1.0</td>\n",
       "      <td>14502.75</td>\n",
       "      <td>0</td>\n",
       "    </tr>\n",
       "  </tbody>\n",
       "</table>\n",
       "</div>"
      ],
      "text/plain": [
       "   calls  minutes  messages   mb_used  is_ultra\n",
       "0   40.0   311.90      83.0  19915.42         0\n",
       "1   85.0   516.75      56.0  22696.96         0\n",
       "2   77.0   467.66      86.0  21060.45         0\n",
       "3  106.0   745.53      81.0   8437.39         1\n",
       "4   66.0   418.74       1.0  14502.75         0"
      ]
     },
     "metadata": {},
     "output_type": "display_data"
    }
   ],
   "source": [
    "display(df.head(5))"
   ]
  },
  {
   "cell_type": "code",
   "execution_count": 9,
   "id": "bcd66fd6-33e8-4c81-902e-e1d5f3d4f516",
   "metadata": {},
   "outputs": [
    {
     "name": "stdout",
     "output_type": "stream",
     "text": [
      "<class 'pandas.core.frame.DataFrame'>\n",
      "RangeIndex: 3214 entries, 0 to 3213\n",
      "Data columns (total 5 columns):\n",
      " #   Column    Non-Null Count  Dtype  \n",
      "---  ------    --------------  -----  \n",
      " 0   calls     3214 non-null   float64\n",
      " 1   minutes   3214 non-null   float64\n",
      " 2   messages  3214 non-null   float64\n",
      " 3   mb_used   3214 non-null   float64\n",
      " 4   is_ultra  3214 non-null   int64  \n",
      "dtypes: float64(4), int64(1)\n",
      "memory usage: 125.7 KB\n"
     ]
    },
    {
     "data": {
      "text/plain": [
       "None"
      ]
     },
     "metadata": {},
     "output_type": "display_data"
    }
   ],
   "source": [
    "display(df.info())"
   ]
  },
  {
   "cell_type": "code",
   "execution_count": 10,
   "id": "f58fffa0-4417-4d7b-b068-925e78e5985a",
   "metadata": {},
   "outputs": [
    {
     "data": {
      "text/html": [
       "<div>\n",
       "<style scoped>\n",
       "    .dataframe tbody tr th:only-of-type {\n",
       "        vertical-align: middle;\n",
       "    }\n",
       "\n",
       "    .dataframe tbody tr th {\n",
       "        vertical-align: top;\n",
       "    }\n",
       "\n",
       "    .dataframe thead th {\n",
       "        text-align: right;\n",
       "    }\n",
       "</style>\n",
       "<table border=\"1\" class=\"dataframe\">\n",
       "  <thead>\n",
       "    <tr style=\"text-align: right;\">\n",
       "      <th></th>\n",
       "      <th>calls</th>\n",
       "      <th>minutes</th>\n",
       "      <th>messages</th>\n",
       "      <th>mb_used</th>\n",
       "      <th>is_ultra</th>\n",
       "    </tr>\n",
       "  </thead>\n",
       "  <tbody>\n",
       "    <tr>\n",
       "      <th>count</th>\n",
       "      <td>3214.000000</td>\n",
       "      <td>3214.000000</td>\n",
       "      <td>3214.000000</td>\n",
       "      <td>3214.000000</td>\n",
       "      <td>3214.000000</td>\n",
       "    </tr>\n",
       "    <tr>\n",
       "      <th>mean</th>\n",
       "      <td>63.038892</td>\n",
       "      <td>438.208787</td>\n",
       "      <td>38.281269</td>\n",
       "      <td>17207.673836</td>\n",
       "      <td>0.306472</td>\n",
       "    </tr>\n",
       "    <tr>\n",
       "      <th>std</th>\n",
       "      <td>33.236368</td>\n",
       "      <td>234.569872</td>\n",
       "      <td>36.148326</td>\n",
       "      <td>7570.968246</td>\n",
       "      <td>0.461100</td>\n",
       "    </tr>\n",
       "    <tr>\n",
       "      <th>min</th>\n",
       "      <td>0.000000</td>\n",
       "      <td>0.000000</td>\n",
       "      <td>0.000000</td>\n",
       "      <td>0.000000</td>\n",
       "      <td>0.000000</td>\n",
       "    </tr>\n",
       "    <tr>\n",
       "      <th>25%</th>\n",
       "      <td>40.000000</td>\n",
       "      <td>274.575000</td>\n",
       "      <td>9.000000</td>\n",
       "      <td>12491.902500</td>\n",
       "      <td>0.000000</td>\n",
       "    </tr>\n",
       "    <tr>\n",
       "      <th>50%</th>\n",
       "      <td>62.000000</td>\n",
       "      <td>430.600000</td>\n",
       "      <td>30.000000</td>\n",
       "      <td>16943.235000</td>\n",
       "      <td>0.000000</td>\n",
       "    </tr>\n",
       "    <tr>\n",
       "      <th>75%</th>\n",
       "      <td>82.000000</td>\n",
       "      <td>571.927500</td>\n",
       "      <td>57.000000</td>\n",
       "      <td>21424.700000</td>\n",
       "      <td>1.000000</td>\n",
       "    </tr>\n",
       "    <tr>\n",
       "      <th>max</th>\n",
       "      <td>244.000000</td>\n",
       "      <td>1632.060000</td>\n",
       "      <td>224.000000</td>\n",
       "      <td>49745.730000</td>\n",
       "      <td>1.000000</td>\n",
       "    </tr>\n",
       "  </tbody>\n",
       "</table>\n",
       "</div>"
      ],
      "text/plain": [
       "             calls      minutes     messages       mb_used     is_ultra\n",
       "count  3214.000000  3214.000000  3214.000000   3214.000000  3214.000000\n",
       "mean     63.038892   438.208787    38.281269  17207.673836     0.306472\n",
       "std      33.236368   234.569872    36.148326   7570.968246     0.461100\n",
       "min       0.000000     0.000000     0.000000      0.000000     0.000000\n",
       "25%      40.000000   274.575000     9.000000  12491.902500     0.000000\n",
       "50%      62.000000   430.600000    30.000000  16943.235000     0.000000\n",
       "75%      82.000000   571.927500    57.000000  21424.700000     1.000000\n",
       "max     244.000000  1632.060000   224.000000  49745.730000     1.000000"
      ]
     },
     "metadata": {},
     "output_type": "display_data"
    }
   ],
   "source": [
    "display(df.describe())"
   ]
  },
  {
   "cell_type": "markdown",
   "id": "7a2e4ec9-429c-474d-b8a5-d55ce503c9e0",
   "metadata": {},
   "source": [
    "# Paso 2: La segmentación de los datos en conjuntos de entrenamiento, validación y prueba."
   ]
  },
  {
   "cell_type": "code",
   "execution_count": 11,
   "id": "91fc27bc-1464-4c3d-8317-8d6f76539070",
   "metadata": {},
   "outputs": [],
   "source": [
    "#DATOS SEGMENTADOS\n",
    "X=df.drop('is_ultra',axis=1) #DATOS A TOMAR EN CUENTA EN ENTRAMIENTO\n",
    "y=df['is_ultra'] #OBJETIVO\n",
    "#PRUEBA 30% ENTRENAMIENTO 70%\n",
    "X_train, X_temp, y_train, y_temp = train_test_split(X,y, test_size=0.3, random_state=42)\n",
    "#PRUEBA 30% ---- 50% VALIDACION Y EL OTRO 50% PRUEBA\n",
    "X_val, X_test, y_val, y_test = train_test_split(X_temp,y_temp, test_size=0.5, random_state=42)\n"
   ]
  },
  {
   "cell_type": "code",
   "execution_count": 15,
   "id": "53b820ee-959a-4d6a-8a03-599a41c48daa",
   "metadata": {},
   "outputs": [
    {
     "name": "stdout",
     "output_type": "stream",
     "text": [
      "Datos Entrenamiento: (2249, 4)\n",
      "Datos Prueba: (483, 4)\n",
      "Datos Validacion: (482, 4)\n"
     ]
    }
   ],
   "source": [
    "print(f'Datos Entrenamiento: {X_train.shape}')\n",
    "print(f'Datos Prueba: {X_test.shape}')\n",
    "print(f'Datos Validacion: {X_val.shape}')\n"
   ]
  },
  {
   "cell_type": "markdown",
   "id": "5b1a8358-3aaf-47e7-8efb-fe4574e2b095",
   "metadata": {},
   "source": [
    "# Paso 3: Exploración de Modelos y Evaluación"
   ]
  },
  {
   "cell_type": "code",
   "execution_count": 25,
   "id": "1206c5c1-772b-4197-a617-2a4bc55604a7",
   "metadata": {},
   "outputs": [],
   "source": [
    "max_depth_values=[5,10,15,20,25]\n",
    "\n",
    "n_estimators=100\n",
    "random_state=42\n",
    "\n",
    "param_grid={\n",
    "    'max_depth': max_depth_values,\n",
    "    'n_estimators':[n_estimators],\n",
    "    'random_state':[random_state]\n",
    "}\n",
    "\n",
    "base_model = RandomForestClassifier()\n",
    "\n",
    "gridsearch=GridSearchCV(estimator=base_model, param_grid=param_grid, scoring='accuracy', cv=5)\n",
    "gridsearch.fit(X_train, y_train)\n",
    "\n",
    "resultados=gridsearch.cv_results_\n"
   ]
  },
  {
   "cell_type": "code",
   "execution_count": 26,
   "id": "7140345a-b703-40e0-a0c5-073816929377",
   "metadata": {},
   "outputs": [
    {
     "name": "stdout",
     "output_type": "stream",
     "text": [
      "RESULTADOS BUSQUEDA HIPERPARAMETROS:\n",
      "Exactitud:0.7990\n",
      "Parametros: {'max_depth': 5, 'n_estimators': 100, 'random_state': 42}\n",
      "Exactitud:0.8066\n",
      "Parametros: {'max_depth': 10, 'n_estimators': 100, 'random_state': 42}\n",
      "Exactitud:0.8043\n",
      "Parametros: {'max_depth': 15, 'n_estimators': 100, 'random_state': 42}\n",
      "Exactitud:0.7995\n",
      "Parametros: {'max_depth': 20, 'n_estimators': 100, 'random_state': 42}\n",
      "Exactitud:0.8003\n",
      "Parametros: {'max_depth': 25, 'n_estimators': 100, 'random_state': 42}\n"
     ]
    }
   ],
   "source": [
    "print(f'RESULTADOS BUSQUEDA HIPERPARAMETROS:')\n",
    "for ms, p in zip(resultados['mean_test_score'], resultados['params']):\n",
    "    print(f'Exactitud:{ms:.4f}\\nParametros: {p}')"
   ]
  },
  {
   "cell_type": "markdown",
   "id": "c0ef739b-c36f-46d7-bcf2-252fd1b7ca6f",
   "metadata": {},
   "source": [
    "Elegiremos la combinacion de max_depth 10, n_estimators 100, y random state 42 ya que nos da una exactitud de 80.66%"
   ]
  },
  {
   "cell_type": "code",
   "execution_count": 28,
   "id": "0841cca5-c157-4e0d-a313-874cc54091f0",
   "metadata": {},
   "outputs": [
    {
     "name": "stdout",
     "output_type": "stream",
     "text": [
      "Mejores Parametros: {'max_depth': 10, 'n_estimators': 100, 'random_state': 42}\n",
      "RandomForestClassifier(max_depth=10, random_state=42)\n"
     ]
    }
   ],
   "source": [
    "best_model= gridsearch.best_estimator_\n",
    "print(F'Mejores Parametros: {gridsearch.best_params_}')\n",
    "\n"
   ]
  },
  {
   "cell_type": "code",
   "execution_count": 31,
   "id": "e59489e8-37aa-4738-acc3-e6594db4376d",
   "metadata": {},
   "outputs": [
    {
     "name": "stdout",
     "output_type": "stream",
     "text": [
      "Exactitud: 0.8237\n"
     ]
    }
   ],
   "source": [
    "y_val_p=best_model.predict(X_val)\n",
    "exactitud= accuracy_score(y_val, y_val_p)\n",
    "print(f'Exactitud: {exactitud:.4f}')\n"
   ]
  },
  {
   "cell_type": "markdown",
   "id": "219a4286-a5e7-4824-9407-8952b40d174d",
   "metadata": {},
   "source": [
    "# Paso 4:Comprueba la calidad del modelo usando el conjunto de prueba."
   ]
  },
  {
   "cell_type": "code",
   "execution_count": 39,
   "id": "42a89fae-661d-4747-96d6-dde15f231978",
   "metadata": {},
   "outputs": [
    {
     "name": "stdout",
     "output_type": "stream",
     "text": [
      "Test_Exactitud: 0.7805\n",
      "Mejor Modelo:RandomForestClassifier\n"
     ]
    }
   ],
   "source": [
    "y_test_p=best_model.predict(X_test)\n",
    "Test_exactitud= accuracy_score(y_test, y_test_p)\n",
    "print(f'Test_Exactitud: {Test_exactitud:.4f}\\nMejor Modelo:{best_model.__class__.__name__}')\n"
   ]
  },
  {
   "cell_type": "markdown",
   "id": "16cc0106-9a8a-49be-b62d-1d16f0633d81",
   "metadata": {},
   "source": [
    "# Paso 5: Tarea adicional: haz una prueba de cordura al modelo. Estos datos son más complejos que los que habías usado antes así que no será una tarea fácil. "
   ]
  },
  {
   "cell_type": "code",
   "execution_count": 40,
   "id": "b8b23bb8-883a-4580-9877-29c04c46787b",
   "metadata": {},
   "outputs": [
    {
     "name": "stdout",
     "output_type": "stream",
     "text": [
      "Cordura_Exactitud: 0.7805\n",
      "Mejor Modelo:RandomForestClassifier\n"
     ]
    }
   ],
   "source": [
    "y_test_pred_cordura = best_model.predict(X_test) + np.random.normal(0, 0.1, len(X_test))\n",
    "\n",
    "y_test_pred_cordura_binarizada = np.where(y_test_pred_cordura >= 0.5, 1, 0)\n",
    "\n",
    "Cordura_exactitud= accuracy_score(y_test, y_test_pred_cordura_binarizada)\n",
    "\n",
    "print(f'Cordura_Exactitud: {Cordura_exactitud:.4f}\\nMejor Modelo:{best_model.__class__.__name__}')"
   ]
  },
  {
   "cell_type": "code",
   "execution_count": null,
   "id": "c7a39943-cf01-496d-8546-b7846061ef8b",
   "metadata": {},
   "outputs": [],
   "source": []
  }
 ],
 "metadata": {
  "kernelspec": {
   "display_name": "Python 3 (ipykernel)",
   "language": "python",
   "name": "python3"
  },
  "language_info": {
   "codemirror_mode": {
    "name": "ipython",
    "version": 3
   },
   "file_extension": ".py",
   "mimetype": "text/x-python",
   "name": "python",
   "nbconvert_exporter": "python",
   "pygments_lexer": "ipython3",
   "version": "3.12.4"
  }
 },
 "nbformat": 4,
 "nbformat_minor": 5
}
