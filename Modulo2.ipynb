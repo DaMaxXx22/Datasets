{
 "cells": [
  {
   "cell_type": "markdown",
   "id": "7377382b-11f5-46e5-976e-03081c97a113",
   "metadata": {},
   "source": [
    "Análisis del riesgo de incumplimiento de los prestatarios\n",
    "Tu proyecto consiste en preparar un informe para la división de préstamos de un banco. Deberás averiguar si el estado civil y el número de hijos de un cliente tienen un impacto en el incumplimiento de pago de un préstamo. El banco ya tiene algunos datos sobre la solvencia crediticia de los clientes.\n",
    "\n",
    "Tu informe se tendrá en cuenta al crear una puntuación de crédito para un cliente potencial. La puntuación de crédito se utiliza para evaluar la capacidad de un prestatario potencial para pagar su préstamo.\n",
    "\n",
    "[En este cuaderno se te brindan pistas, breves instrucciones y sugerencias para pensar. No los ignores, ya que están diseñados para equiparte con la estructura del proyecto y te ayudarán a analizar lo que estás haciendo en un nivel más profundo. Antes de enviar tu proyecto, asegúrate de eliminar todas las sugerencias y descripciones que se te hayan proporcionado. Más bien, haz que este informe parezca como si se lo estuvieras enviando a tus compañeros de equipo para demostrar tus hallazgos: ¡no deben saber que recibiste ayuda externa de nuestra parte! Para ayudarte, hemos colocado las pistas que debes eliminar entre corchetes.]\n",
    "\n",
    "[Antes de sumergirte en el análisis de tus datos, explica los propósitos del proyecto y las hipótesis que vas a evaluar.]\n",
    "\n",
    "1  Abre el archivo de datos y mira la información general.\n",
    "[Empieza con la importación de las librerías y la carga de los datos. Es posible que te des cuenta de que necesitas librerías adicionales a medida que avanzas, lo cual es totalmente normal, solo asegúrate de actualizar esta sección cuando lo hagas.]"
   ]
  },
  {
   "cell_type": "code",
   "execution_count": 1,
   "id": "ece7ee75-deeb-46ca-8a23-db8a686cf881",
   "metadata": {
    "jupyter": {
     "is_executing": true
    }
   },
   "source": [
    "\n",
    "import os\n",
    "import pandas as pd\n",
    "import numpy as np\n",
    "import matplotlib.pyplot as plt\n",
    "\n",
    "from IPython.display import display\n"
   ],
   "outputs": []
  },
  {
   "cell_type": "code",
   "execution_count": 2,
   "id": "a88ca39f-62e1-4e29-bad7-0fb034f453d9",
   "metadata": {
    "jupyter": {
     "is_executing": true
    }
   },
   "source": [
    "documento = os.path.join('..','DataFrames','credit_scoring_eng.csv')\n",
    "df=pd.read_csv(documento)\n"
   ],
   "outputs": []
  },
  {
   "cell_type": "code",
   "execution_count": 3,
   "id": "f11b6e0f-13d8-46f5-bcde-0d862fb0ad80",
   "metadata": {},
   "source": [
    "display(df.describe())\n",
    "print(f'El DATAFRAME contiene aproximadamente {df.shape[0]} filas y {df.shape[1]} columnas ')\n",
    "\n",
    "display(df.head())\n",
    "\n",
    "\n"
   ],
   "outputs": []
  },
  {
   "cell_type": "code",
   "execution_count": 4,
   "id": "dcdd8529-43fa-4fd2-abb8-ae237f59d805",
   "metadata": {},
   "source": [
    "print(df.info())\n"
   ],
   "outputs": []
  },
  {
   "cell_type": "markdown",
   "id": "392fe28c-2cc5-4209-b374-d575751fc842",
   "metadata": {},
   "source": [
    "Con esto suponemos que days_employed y total_income tienes datos nulos"
   ]
  },
  {
   "cell_type": "code",
   "execution_count": 5,
   "id": "fd554364-b2fa-48ee-b6f2-6b39dcf851dc",
   "metadata": {},
   "source": [
    "df_nulos=df[df['days_employed'].isna() & df['total_income'].isna()].reset_index(drop=True)\n",
    "df_nulos2=df[df['days_employed'].isna() & df['total_income'].isna()]\n",
    "#.isna() o .isnull() es lo mismo al igual que .notna() y .notnull()\n",
    "datos_faltantes=df.isnull().sum()\n"
   ],
   "outputs": []
  },
  {
   "cell_type": "code",
   "execution_count": 6,
   "id": "490a8eb6-503c-4058-887f-1e30126fa418",
   "metadata": {},
   "source": [
    "print(f'Datos Faltantes:\\n {datos_faltantes}')\n",
    "print('Con los datos filtrados e insertando .reset_index(drop=True)')\n",
    "display(df_nulos.head())\n",
    "print('Con los datos filtrados sin insertar .reset_index(drop=True)')\n",
    "display(df_nulos2.head())\n",
    "\n",
    "\n",
    "#matriz.shape[0] se utiliza cuando se trata con matrices o array de numpy matriz=np.array([[1,2,3],[1,2,3]]) \n",
    "#len(matriz) se utiliza cuando se trata con una simple lista que contiene otras listas matriz=[[1,2,3],[1,2,3]]\n",
    "#Ambas nos dara 2\n",
    "\n",
    "##matriz.shape[2] se utiliza cuando se trata con matrices o array de numpy matriz=np.array([[1,2,3],[1,2,3]]) \n",
    "#len(matriz[0]) se utiliza cuando se trata con una simple lista que contiene otras listas matriz=[[1,2,3],[1,2,3]]\n",
    "#Ambas nos dara 3 en caso de que los elementos sean de la misma cantidad de Columnas \n",
    "#(Filas x Columnas) siempre se leen las filas y despues las columnas \n",
    "print(f'Los datos Nulos tienen {df_nulos.shape[0]} filas. ')\n"
   ],
   "outputs": []
  },
  {
   "cell_type": "markdown",
   "id": "d9bbf70c-adea-428f-8811-da9c9d060815",
   "metadata": {},
   "source": [
    "**Conclusión intermedia**\n",
    "\n",
    "[¿El número de filas en la tabla filtrada coincide con el número de valores ausentes? ¿Qué conclusión podemos sacar de esto?]\n",
    "\n",
    "[Calcula el porcentaje de los valores ausentes en comparación con el conjunto de datos completo. ¿Se trata de una porción de datos considerablemente grande? Si es así, es posible que quieras completar los valores ausentes. Para hacer eso, primero debemos definir si los datos ausentes podrían deberse a la característica específica del cliente, como el tipo de empleo u otra cosa. Tendrás que decidir qué característica, según tú, podría ser la razón. En segundo lugar, debemos verificar si los valores ausentes dependen de alguna manera del valor de otros indicadores con las columnas con características de clientes, específicas e identificadas.]\n",
    "\n",
    "[Explica tus próximos pasos y cómo se correlacionan con las conclusiones que has hecho hasta ahora.]"
   ]
  },
  {
   "cell_type": "code",
   "execution_count": 7,
   "id": "71fd3316-05b7-4706-9247-029462dff7f4",
   "metadata": {},
   "source": [
    "#FORMA QUE SE ME OCURRIO SIN EMBARGO RECURRIR A LA FORMA 2 DE CHATGPT ES MAS EFICIENTE\n",
    "print(df_nulos['income_type'].value_counts(),'\\n')\n",
    "df_nabus=df_nulos[df_nulos['income_type']=='business'].reset_index(drop=True)\n",
    "df_nacivser=df_nulos[df_nulos['income_type']=='civil servant'].reset_index(drop=True)\n",
    "df_naret=df_nulos[df_nulos['income_type']=='retiree'].reset_index(drop=True)\n",
    "df_naemp=df_nulos[df_nulos['income_type']=='employee'].reset_index(drop=True)\n",
    "df_naent=df_nulos[df_nulos['income_type']=='entrepreneur'].reset_index(drop=True)\n",
    "print(f'Business: {df_nabus.shape[0]}\\nCivil Servant: {df_nacivser.shape[0]}\\nRetiree: {df_naret.shape[0]}\\nEmployee: {df_naemp.shape[0]}\\nEntrepreneur: {df_naent.shape[0]}\\nTotal: {df_nabus.shape[0]+df_nacivser.shape[0]+df_naret.shape[0]+df_naemp.shape[0]+df_naent.shape[0]}')"
   ],
   "outputs": []
  },
  {
   "cell_type": "code",
   "execution_count": 8,
   "id": "538c3be9-d965-4fb0-a6a0-033779111651",
   "metadata": {},
   "source": [
    "\n",
    "#FORMA 1 CHATPGPT ESTA NO ME GUSTO MUCHO CREO QUE LA FORMA 2 DE CHATPGT ES MAS EFICIENTE\n",
    "# Agrupar por 'income_type' y contar el número de filas en cada grupo\n",
    "income_type = df_nulos.groupby('income_type').size()\n",
    "print(income_type,'\\n')\n",
    "# Imprimir los resultados\n",
    "print(f\"Business: {income_type.get('business', 0)}\")\n",
    "print(f\"Civil Servant: {income_type.get('civil servant', 0)}\")\n",
    "print(f\"Retiree: {income_type.get('retiree', 0)}\")\n",
    "print(f\"Employee: {income_type.get('employee', 0)}\")\n",
    "print(f\"Entrepreneur: {income_type.get('entrepreneur', 0)}\")\n",
    "print(f\"Total: {income_type.sum()}\")\n"
   ],
   "outputs": []
  },
  {
   "cell_type": "code",
   "execution_count": 9,
   "id": "3cd27f2a-e091-4d36-ba18-9286b18888e1",
   "metadata": {},
   "source": [
    "#FORMA 2 CHATPGPT ESTA ES LA FORMA MAS EFICIENTE A MI PARECER\n",
    "\n",
    "income_type2 = df_nulos['income_type'].value_counts()\n",
    "print(income_type2,'\\n')\n",
    "print(f\"Business: {income_type2.get('business', 0)}\")\n",
    "print(f\"Civil Servant: {income_type2.get('civil servant', 0)}\")\n",
    "print(f\"Retiree: {income_type2.get('retiree', 0)}\")\n",
    "print(f\"Employee: {income_type2.get('employee', 0)}\")\n",
    "print(f\"Entrepreneur: {income_type2.get('entrepreneur', 0)}\")\n",
    "print(f\"Total: {income_type2.sum()}\")\n"
   ],
   "outputs": []
  },
  {
   "cell_type": "markdown",
   "id": "a425dc0e-1209-411d-859a-8bd71b6e7ca2",
   "metadata": {},
   "source": [
    "***Concluciones Intermedias***\n",
    "------------------------------\n",
    "Los datos muestran que `employee` es la categoria que mas datos nulos **1105** seguido de `business` con **508** despues `retiree` con **413** y los ultimos `civil servant`y `entrepreneur` con **147** y **1** respectivamente."
   ]
  },
  {
   "cell_type": "code",
   "execution_count": 10,
   "id": "2a1183fe-e184-45d6-afa1-e3d1ad86fc5c",
   "metadata": {},
   "source": [
    "plt.figure(figsize=(4,3))\n",
    "plt.hist(df['total_income'])\n",
    "plt.title('Distribucion del ingreso Total\"')\n",
    "plt.xlabel('Ingreso Total')\n",
    "plt.ylabel('Cantidad de personas o Frecuencia')\n",
    "plt.show()"
   ],
   "outputs": []
  },
  {
   "cell_type": "code",
   "execution_count": 11,
   "id": "0fbe7171-07c7-4732-befe-b1325468cb91",
   "metadata": {},
   "source": [
    "\n",
    "plt.figure(figsize=(4, 3))\n",
    "\n",
    "df_clean=df.dropna().reset_index(drop=True)\n",
    "\n",
    "plt.boxplot(df_clean['total_income'],vert=False)\n",
    "plt.title('Distribucion del Ingreso Total')\n",
    "plt.xlabel('Total Income o Ingresos Totales')\n",
    "plt.show()"
   ],
   "outputs": []
  },
  {
   "cell_type": "code",
   "execution_count": 12,
   "id": "12d716ef-7143-4b37-96f0-4874b48764ed",
   "metadata": {},
   "source": [
    "\n",
    "plt.figure(figsize=(4,3))\n",
    "#Pone la informacion en el orden que viene\n",
    "plt.hist(df['education'])\n",
    " # Rotar 45 grados y alinear a la derecha\n",
    "plt.xticks(rotation=45,ha='right')\n",
    "#Pone la informacion descendente\n",
    "#df['education'].value_counts().plot(kind='bar')\n",
    "plt.title('Distribucion de la educacion')\n",
    "plt.ylabel('Frecuencia')\n",
    "plt.xlabel('Nivel de Educacion')\n",
    "plt.show()"
   ],
   "outputs": []
  },
  {
   "cell_type": "code",
   "execution_count": 13,
   "id": "66261ef1-817f-482e-8aa8-868759e29e59",
   "metadata": {},
   "source": [
    "df.hist(bins=30,figsize=(20,15))\n",
    "plt.show()"
   ],
   "outputs": []
  },
  {
   "cell_type": "markdown",
   "id": "9378f2ef-4c33-4727-9cc4-f74846e660c4",
   "metadata": {},
   "source": [
    "# CONCLUSIONES INTERMEDIAS\n",
    "​\n",
    "CONCLUSIONES INTERMEDIAS:\n",
    "¿Crees que están ausentes al azar o hay algún patrón?\n",
    "----------------------------------------------------------\n",
    "No creo que esten al azar, segun veo estan distribuidos, con un patron aparente\n",
    "​\n",
    "Sin embargo podemos notar que la distribucion se inclina a secundary education, por lo que nos da a enteder que es donde hay mas, sin embargo donde hay mas ingresos es en bachelor's degree. Por otra parte tambien de las primeras 2 tablas podemos analizar que el ingreso con mayor frecuencia se da en bachelor's degree.\n",
    "\n",
    "​\n",
    "Conclusión intermedia\n",
    "-----------------------------------\n",
    "[¿Es similar la distribución en el conjunto de datos original a la distribución de la tabla filtrada? ¿Qué significa eso para nosotros?]\n",
    "\n",
    "[Si crees que aún no podemos llegar a ninguna conclusión, investiguemos más a fondo nuestro conjunto de datos. Pensemos en otras razones que podrían llevar a la ausencia de datos y verifiquemos si podemos encontrar algún patrón que nos haga pensar que los valores ausentes no son aleatorios. Ya que es tu trabajo, esta sección es opcional.]"
   ]
  },
  {
   "cell_type": "code",
   "execution_count": 14,
   "id": "e400590a-e5a5-4662-9d26-8626dcba1eaf",
   "metadata": {},
   "source": [
    "\n",
    "df['datos_faltantes']= df['days_employed'].isna() & df['total_income'].isna()\n",
    "\n",
    "print(df.groupby('income_type')['datos_faltantes'].sum())\n",
    "df.groupby('income_type')['datos_faltantes'].sum().plot(kind='bar')\n",
    "plt.title('Cantidad de datos faltantes para cada tipo de empleo')\n",
    "plt.xlabel('Tipo de empleo')\n",
    "plt.ylabel('Cantidad de datos faltantes')\n",
    "plt.show()"
   ],
   "outputs": []
  },
  {
   "cell_type": "code",
   "execution_count": 15,
   "id": "fe52b6dc-9a5f-46aa-9171-fa05fb9ca09b",
   "metadata": {},
   "source": [
    "\n",
    "df['days_employed'] = df['days_employed'].abs()\n",
    "\n",
    "correlation = df.select_dtypes(include=[np.number]).corr()\n",
    "print(correlation['days_employed'])\n",
    "\n",
    "grouped_data = df.groupby('income_type')['days_employed'].mean()\n",
    "print(grouped_data)\n"
   ],
   "outputs": []
  },
  {
   "cell_type": "markdown",
   "id": "f7f3fe0a-65f3-4a6c-833f-39b97ebde683",
   "metadata": {},
   "source": [
    "**Conclusión intermedia**\n",
    "\n",
    "[¿Podemos finalmente confirmar que los valores ausentes son accidentales? Verifica cualquier otra cosa que creas que podría ser importante aquí.]\n",
    "\n",
    "**Respuesta:**\n",
    "En lo personal considero que los datos faltantes son aleatorios, y ademas hay dos tipos de datos faltantes:\n",
    "- `Los nulos`\n",
    "-  `Los 0`\n",
    "\n",
    "**Conclusiones**\n",
    "\n",
    "[¿Encontraste algunos patrones? ¿Cómo llegaste a esta conclusión?]\n",
    "\n",
    "[Explica cómo abordarás los valores ausentes. Ten en cuenta las categorías en las que faltan valores.]\n",
    "\n",
    "[Planifica brevemente tus próximos pasos en la transformación de datos. Probablemente tendrás que abordar diferentes tipos de problemas: duplicados, diferentes registros, artefactos incorrectos y valores ausentes.]\n",
    "\n",
    "\n",
    "**Respuesta**\n",
    "No eliminare ningun datos nullo o 0, los 0 los puedo manejar perfectamente con mis demas datos, sin embargo los nullos tendre que darles un valor determinado como 0 para proceder a darles un analisis apropiado ademas de que los unicos datos que presentan datos nulos son columnas con datos numericos como:\n",
    "- `days employed`\n",
    "- `total income`"
   ]
  },
  {
   "cell_type": "code",
   "execution_count": 16,
   "id": "5a4a2801-a21d-45a8-9649-e2acb5655cd4",
   "metadata": {},
   "source": [
    "df=pd.read_csv(documento)\n"
   ],
   "outputs": []
  },
  {
   "cell_type": "code",
   "execution_count": 17,
   "id": "47e8b135-15ee-4b60-8be6-395c13a0d7ed",
   "metadata": {},
   "source": [
    "print(df.isna().sum())"
   ],
   "outputs": []
  },
  {
   "cell_type": "code",
   "execution_count": 18,
   "id": "aff061c2-fcd5-42eb-a33d-76cd858176b0",
   "metadata": {},
   "source": [
    "columnas_a_cambiar=['days_employed','total_income']\n",
    "for i in columnas_a_cambiar:\n",
    "    df[i]=df[i].fillna(0)\n",
    "    \n",
    "    "
   ],
   "outputs": []
  },
  {
   "cell_type": "code",
   "execution_count": 19,
   "id": "dd58d368-16d6-4789-a120-2fca01601cb6",
   "metadata": {},
   "source": [
    "print(df.isna().sum())"
   ],
   "outputs": []
  },
  {
   "cell_type": "markdown",
   "id": "91069d32-8e67-433e-8131-a2c701711146",
   "metadata": {},
   "source": [
    "AHORA ELIMINAREMOS LOS DUPLICADOS Y LOS CORREGIREMOS CUALQUIER ERROR EN LA INFORMACION DE CADENAS COMO EN EDUCATION"
   ]
  },
  {
   "cell_type": "code",
   "execution_count": 20,
   "id": "74dd120d-ae7d-4bd4-9fe0-ac3ea452db29",
   "metadata": {},
   "source": [
    "df=df.drop_duplicates().reset_index(drop=True)\n",
    "print(f'{df['education'].unique()}\\n')\n",
    "df['education']=df['education'].str.lower()\n",
    "print(f'{df['education'].unique()}')"
   ],
   "outputs": []
  },
  {
   "cell_type": "code",
   "execution_count": 21,
   "id": "c04457f5-1d4c-4d1a-9723-3e9ced05cae6",
   "metadata": {},
   "source": [
    "print(df.info())"
   ],
   "outputs": []
  },
  {
   "cell_type": "markdown",
   "id": "aaa6902c-041a-4974-abb3-9e4774bce87f",
   "metadata": {},
   "source": [
    "VERIFICAMOS QUE NINGUN OTRA COLUMNA TENGA VALORES ALTERADOS QUE PUEDAN AFECTAR NUESTRO ANALISIS:\n"
   ]
  },
  {
   "cell_type": "code",
   "execution_count": 22,
   "id": "adab5154-cebf-4a6c-b506-0ceb31747154",
   "metadata": {},
   "source": [
    "for i in df.columns:\n",
    "    print(f'{i}: {df[i].unique()}')"
   ],
   "outputs": []
  },
  {
   "cell_type": "markdown",
   "id": "447b8a2b-682e-4cc4-a84f-ec6a7ca526d8",
   "metadata": {},
   "source": [
    "TODAVIA OBSERVAMOS PECULIARIDADES COMO EN LOS DATOS DE CHILDREN APARECE UN -1 SABEMOS QUE NO SE PUEDE TENER -1 HIJOS POR LO QUE PODEMOS OPTAR POR CONVERTIR ESTE DATO EN 0 O ASUMIR QUE FUE UN ERROR Y CONVERTIRLO A 1, EN MI CASO LO CONVERTIRE A 1, ASI COMO LOS DIAS TRABAJADOS EN NEGATIVOS CONVERTIRLOS A POSTIVOS CON ABS()"
   ]
  },
  {
   "cell_type": "code",
   "execution_count": 23,
   "id": "bf3585ad-6fa5-4842-ba56-d1d592c1e87e",
   "metadata": {},
   "source": [
    "df['children']=df['children'].replace({-1:2, 20:2})\n",
    "df['days_employed']=df['days_employed'].abs()"
   ],
   "outputs": []
  },
  {
   "cell_type": "code",
   "execution_count": 24,
   "id": "0bbf3891-d0a2-44ce-a48f-d7d7601adf0e",
   "metadata": {},
   "source": [
    "for i in df.columns:\n",
    "    print(f'{i}: {df[i].unique()}')"
   ],
   "outputs": []
  },
  {
   "cell_type": "markdown",
   "id": "99faa96f-9875-4482-bc4e-13d8029159d1",
   "metadata": {},
   "source": [
    "**YA PREPARAMOS TODOS LOS DATOS, AHORA ANALIZAREMOS**"
   ]
  },
  {
   "cell_type": "markdown",
   "id": "c7d32fe5-4106-4801-a800-ec3a164ea58d",
   "metadata": {},
   "source": [
    "**LO QUE NOS INTERESA SABER ES:**\n",
    "- 1.-SI LOS HIJOS INFLUYEN EN SI SE TIENE UNA DEUDA O NO.\n",
    "- 2.-SI EL GRADO DE ESTUDIO TIENE QUE VER CON EL TOTAL DE INGRESOS.\n",
    "- 3.-SI EL TIPO DE INGRESO TIENE QUE VER CON EL TOTAL DE INGRESOS\n",
    "- 4.-SI EL ESTADO FAMILIAR TIENE QUE VER CON QUE SE ADQUIERA DEUDA O NO.\n",
    "- 5.-SI EL AÑO NACIDO TIENE QUE VER CON EL TOTAL DE INGRESOS.\n",
    "\n",
    "\n"
   ]
  },
  {
   "cell_type": "code",
   "execution_count": 49,
   "id": "f9f93a9d-e134-47d6-a192-49b4d6b49d75",
   "metadata": {},
   "source": [
    "# Agrupar por la cantidad de hijos y contar cuántas personas tienen deuda (debt=1)\n",
    "print(f'CANTIDAD DE HIJOS VS CON DEUDA:\\n{df[df['debt'] == 1].groupby('children').size().apply(lambda x: f'{x} familias con deudas')}')\n",
    "df[df['debt'] == 1].groupby('children').size().plot(kind='bar',title='CANTIDAD DE HIJOS VS CON DEUDAS')\n",
    "plt.ylabel('Frecuencia')\n",
    "plt.show()\n",
    "df[df['debt'] == 0].groupby('children').size().plot(kind='bar',title='CANTIDAD DE HIJOS VS SIN DEUDAS')\n",
    "plt.ylabel('Frecuencia')\n",
    "plt.show()\n"
   ],
   "outputs": []
  },
  {
   "cell_type": "code",
   "execution_count": 26,
   "id": "e3f8c0bd-c5dd-44f6-8587-6b0c29888019",
   "metadata": {},
   "source": [
    "#forma de CHATGPT DE JUNTARLAS:\n",
    "# Crear una figura con dos subplots (uno para con deudas y otro para sin deudas)\n",
    "fig, axes = plt.subplots(1, 2, figsize=(12, 6))  # 1 fila, 2 columnas\n",
    "\n",
    "# Gráfico de personas con deudas (debt == 1)\n",
    "df[df['debt'] == 1].groupby('children').size().plot(kind='bar', ax=axes[0], color='orange', title='CANTIDAD DE HIJOS VS CON DEUDAS')\n",
    "axes[0].set_ylabel('Frecuencia')\n",
    "\n",
    "# Gráfico de personas sin deudas (debt == 0)\n",
    "df[df['debt'] == 0].groupby('children').size().plot(kind='bar', ax=axes[1], color='blue', title='CANTIDAD DE HIJOS VS SIN DEUDAS')\n",
    "axes[1].set_ylabel('Frecuencia')\n",
    "\n",
    "# Mostrar la figura con ambos gráficos\n",
    "plt.tight_layout()  # Ajustar el diseño\n",
    "plt.show()\n",
    "\n",
    "correlacion_hijos_deudas=df['children'].corr(df['debt'])\n",
    "print(f'Correlacion -1,1 entre mas cercano a estos valores significa que existe una correlacion alta positiva o negativa\\nPOSITIVA:QUIERE DECIR QUE SI AUMENTA UNA AUMENTA OTRA\\nNEGATIVA:QUIERE DECIR QUE SI AUMENTA UNA BAJA OTRA.\\nCORRELACION:{correlacion_hijos_deudas}')"
   ],
   "outputs": []
  },
  {
   "cell_type": "code",
   "execution_count": 48,
   "id": "ea903093-69e4-4f06-b973-ff87a990840a",
   "metadata": {},
   "source": [
    "#EL GRADO DE ESTUDIO TIENE QUE VER CON EL TOTAL DE INGRESOS?\n",
    "display(df.groupby('education')['total_income'].mean().apply(lambda x: f'${x:,.2f}'))\n",
    "ax=df.groupby('education')['total_income'].mean().plot(kind='bar',color='blue',title='PROMEDIO DE INGRESOS POR NIVEL EDUCATIVO',figsize=(6,8))\n",
    "for p in ax.patches:\n",
    "    ax.annotate(f'{p.get_height():.1f}',(p.get_x()+ p.get_width()/2.,p.get_height()),ha='center',va='center',xytext=(0,10),textcoords='offset points')\n",
    "plt.ylabel('Promedio de Ingresos')\n",
    "plt.show()\n"
   ],
   "outputs": []
  },
  {
   "cell_type": "code",
   "execution_count": 47,
   "id": "5fd0c3c8-a842-45e2-b289-b8ca6dea3923",
   "metadata": {},
   "source": [
    "#Tiene que ver el tipo de ingreso con el total de ingresos?\n",
    "display(df.groupby('income_type')['total_income'].mean().apply(lambda x: f'${x:,.2f}'))\n",
    "ax= df.groupby('income_type')['total_income'].mean().plot(kind='bar',title='PROMEDIO DE INGRESOS POR TIPO DE INGRESO',figsize=(8,8))\n",
    "for p in ax.patches:\n",
    "    ax.annotate(f'{p.get_height():.1f}', (p.get_x() + p.get_width() / 2., p.get_height()), \n",
    "                ha='center', va='center', xytext=(0, 10), textcoords='offset points')\n",
    "plt.show()"
   ],
   "outputs": []
  },
  {
   "cell_type": "code",
   "execution_count": 46,
   "id": "236579b6-b507-4667-ac2d-28b80c6c0cc7",
   "metadata": {},
   "source": [
    "#el estado familiar tiene que ver con adquirir deuda o no?\n",
    "print(df.groupby('family_status')['total_income'].mean().apply(lambda x: f'${x:,.2f}'))\n",
    "df.groupby('family_status')['total_income'].mean().plot(kind='pie',title='ESTATUS FAMILIAR VS PROMEDIO DE INGRESOS',autopct='%1.1f%%')\n",
    "plt.ylabel(' ')\n",
    "plt.show()\n"
   ],
   "outputs": []
  },
  {
   "cell_type": "code",
   "execution_count": 68,
   "id": "da61865d-641a-4573-919d-ab4f10cc1a1a",
   "metadata": {},
   "source": [
    "#El dob_year tiene que ver con el total_income?\n",
    "print(df.groupby('dob_years')['total_income'].mean().apply(lambda x: f'${x:,.2f}'))\n",
    "df.groupby('dob_years')['total_income'].mean().plot(kind='bar',title='AÑO DE NACIMIENTO VS PROMEDIO DE INGRESOS',figsize=(15,15))\n",
    "plt.ylabel('PROMEDIO DE INGRESOS')\n",
    "plt.xlabel('AÑO DE NACIMIENTO 1900+')\n",
    "plt.show()\n",
    "correlacion=df['dob_years'].corr(df['total_income'])\n",
    "print(f'Correlacion -1,1 entre mas cercano a estos valores significa que existe una correlacion alta positiva o negativa\\nPOSITIVA:QUIERE DECIR QUE SI AUMENTA UNA AUMENTA OTRA\\nNEGATIVA:QUIERE DECIR QUE SI AUMENTA UNA BAJA OTRA.\\nCORRELACION:{correlacion}')\n"
   ],
   "outputs": []
  },
  {
   "cell_type": "markdown",
   "id": "3f0442de-4742-4bb7-a98f-8fa2dda50527",
   "metadata": {},
   "source": [
    "**CONCLUSIONES**\n",
    "\n",
    "\n",
    "Encontraste algunos patrones? ¿Cómo llegaste a esta conclusión?\n",
    "\n",
    "- 1.-Los hijos no influyen en si se adquiere una deuda, por lo que se observa en las graficas\n",
    "- 2.-Se puede apreciar que el nivel educativo si influye de alguna manera con el total de ingresos que se tienen.\n",
    "- 3.-No se puede apreciar muy bien si tenga que ver el tipo de ingreso con el total de ingresos, sin embargo se puede observar que los que mas ingresos tienen son los emprendedores con mas $35,000, despues le siguen los empresarios,funcionarios, trabajadores y los demas respectivcamente\n",
    "- 4.- Segun la grafica de Pie que podemos ver no se aprecia algun patron dependiendo al total de ingresos que se generan, todos generan un promedio de mas de 20,000\n",
    "- 5.-No veo una correlacion lineal clara entre el dob_years con el total_income percibido, estas serian mis conclusiones."
   ]
  },
  {
   "cell_type": "code",
   "execution_count": 71,
   "id": "7d338cf5-bc8d-42d0-aff7-5aaa591c8cc2",
   "metadata": {},
   "source": [],
   "outputs": []
  },
  {
   "cell_type": "code",
   "execution_count": null,
   "id": "2d165092-3484-4112-b163-3072f365bb46",
   "metadata": {},
   "source": [],
   "outputs": []
  }
 ],
 "metadata": {
  "kernelspec": {
   "display_name": "Python 3 (ipykernel)",
   "language": "python",
   "name": "python3"
  },
  "language_info": {
   "codemirror_mode": {
    "name": "ipython",
    "version": 3
   },
   "file_extension": ".py",
   "mimetype": "text/x-python",
   "name": "python",
   "nbconvert_exporter": "python",
   "pygments_lexer": "ipython3",
   "version": "3.12.4"
  }
 },
 "nbformat": 4,
 "nbformat_minor": 5
}
