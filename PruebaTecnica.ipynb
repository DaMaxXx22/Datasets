{
 "cells": [
  {
   "cell_type": "markdown",
   "id": "b021b65f-a9d8-46a0-8157-de15b232df9d",
   "metadata": {},
   "source": [
    "\"\"\"\n",
    "1.- /*\n",
    " * Escribe una función que reciba un texto y retorne verdadero o\n",
    " * falso (Boolean) según sean o no palíndromos.\n",
    " * Un Palíndromo es una palabra o expresión que es igual si se lee\n",
    "  * de izquierda a derecha que de derecha a izquierda.\n",
    " * NO se tienen en cuenta los espacios, signos de puntuación y tildes.\n",
    " * Ejemplo: Ana lleva al oso la avellana.  # TRUE\n",
    " */\n",
    "\"\"\""
   ]
  },
  {
   "cell_type": "code",
   "execution_count": 4,
   "id": "d4ae8061-fe8d-41b2-bb61-996e4ae4e7cb",
   "metadata": {},
   "outputs": [],
   "source": [
    "def palindromo(frase):\n",
    "    frase=frase.replace('.', '').replace(',','').replace('-','').replace(' ','').lower()\n",
    "    if frase == frase[::-1]:\n",
    "        return True\n",
    "    else:\n",
    "        return False\n",
    "    \n",
    "        "
   ]
  },
  {
   "cell_type": "code",
   "execution_count": 7,
   "id": "1600334f-cef1-4591-8cdd-6e662b141221",
   "metadata": {},
   "outputs": [
    {
     "name": "stdout",
     "output_type": "stream",
     "text": [
      "True\n"
     ]
    }
   ],
   "source": [
    "print(palindromo(\"oxxo.\"))"
   ]
  },
  {
   "cell_type": "markdown",
   "id": "8f2d3e5f-d31d-42d1-b536-6fa5b876fbe6",
   "metadata": {},
   "source": [
    "2.- /*\n",
    " * Escribe una función que calcule y retorne el factorial de un número dado\n",
    " * de forma recursiva.\n",
    " */\n"
   ]
  },
  {
   "cell_type": "code",
   "execution_count": 10,
   "id": "5568531e-4e11-4bdf-8d30-efb5012475b0",
   "metadata": {},
   "outputs": [],
   "source": [
    "def factorial(n):\n",
    "    if n == 0 or n == 1:\n",
    "        return 1\n",
    "    return n * (factorial(n-1))"
   ]
  },
  {
   "cell_type": "code",
   "execution_count": 12,
   "id": "880e0026-30ae-4af3-9ef6-cce3be0dcf4f",
   "metadata": {},
   "outputs": [
    {
     "name": "stdout",
     "output_type": "stream",
     "text": [
      "120\n"
     ]
    }
   ],
   "source": [
    "print(factorial(5))"
   ]
  },
  {
   "cell_type": "markdown",
   "id": "65639e12-60bf-4583-af7f-ccaf2c95f982",
   "metadata": {},
   "source": [
    "3.- /*\n",
    " * Escribe una función que calcule si un número dado es un número de Armstrong\n",
    " * (o también llamado narcisista).\n",
    " * Si no conoces qué es un número de Armstrong, debes buscar información\n",
    " * al respecto.\n",
    " */\n"
   ]
  },
  {
   "cell_type": "code",
   "execution_count": 19,
   "id": "81708dd0-adde-48b2-ae5e-ce6af8933be2",
   "metadata": {},
   "outputs": [],
   "source": [
    "#153\n",
    "\n",
    "def amstrong(numero):\n",
    "    numero=str(numero)\n",
    "    suma=0\n",
    "    e=len(numero)\n",
    "    for i in numero:\n",
    "        # print(f'1.-{suma},{i},{e}')\n",
    "        suma+=int(i)**e\n",
    "        # print(f'2.-{suma},{i},{e}')\n",
    "    if suma == int(numero):\n",
    "        # print(f'3.-{suma},{i},{e}')\n",
    "        return 'Numero de Amstrong'\n",
    "    else:\n",
    "        # print(f'4.-{suma},{i},{e}')\n",
    "        return 'Numero Normal'"
   ]
  },
  {
   "cell_type": "code",
   "execution_count": 22,
   "id": "452738f3-d72b-4cd4-a352-136bfefb4313",
   "metadata": {},
   "outputs": [
    {
     "name": "stdout",
     "output_type": "stream",
     "text": [
      "Numero de Amstrong\n"
     ]
    }
   ],
   "source": [
    "print(amstrong(371))"
   ]
  },
  {
   "cell_type": "code",
   "execution_count": null,
   "id": "cf061f34-775a-4f35-a38d-69668e588be8",
   "metadata": {},
   "outputs": [],
   "source": []
  }
 ],
 "metadata": {
  "kernelspec": {
   "display_name": "Python 3 (ipykernel)",
   "language": "python",
   "name": "python3"
  },
  "language_info": {
   "codemirror_mode": {
    "name": "ipython",
    "version": 3
   },
   "file_extension": ".py",
   "mimetype": "text/x-python",
   "name": "python",
   "nbconvert_exporter": "python",
   "pygments_lexer": "ipython3",
   "version": "3.12.4"
  }
 },
 "nbformat": 4,
 "nbformat_minor": 5
}
